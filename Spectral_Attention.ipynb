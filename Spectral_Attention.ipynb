{
 "cells": [
  {
   "cell_type": "code",
   "execution_count": null,
   "id": "e1c7363d",
   "metadata": {
    "scrolled": true
   },
   "outputs": [],
   "source": [
    "import torch\n",
    "import pickle\n",
    "from XAI import *\n",
    "from matplotlib import pyplot as plt\n",
    "from tqdm import tqdm\n",
    "from tdc.benchmark_group import admet_group\n",
    "import os\n",
    "from torch import stack, tensor, Generator, cat, float32, nonzero, set_float32_matmul_precision\n",
    "\n",
    "set_float32_matmul_precision('high')\n",
    "set_global_seed(42)\n",
    "\n",
    "group = admet_group(path = '../data_tdc/')\n",
    "names = group.dataset_names\n",
    "data = {}\n",
    "seeds = [1,2,3,4,5]\n",
    "models = [\n",
    "    'scratch_20L_wide_def_2e-5_16p', \n",
    "    'charges_20L_wide_def_2e-5_16p', \n",
    "    'nmr_20L_wide_def_2e-5_16p', \n",
    "    'fukui_n_20L_wide_def_2e-5_16p', \n",
    "    'fukui_e_20L_wide_def_2e-5_16p', \n",
    "    'homo-lumo_20L_wide_def_2e-5_16p', \n",
    "    'qm_all_20L_wide_def_2e-5_16p', \n",
    "    'masking_20L_wide_def_2e-5_16p'\n",
    "]\n",
    "\n",
    "for name in tqdm(names):\n",
    "    \n",
    "    for seed in [1, 2, 3, 4, 5]:\n",
    "        \n",
    "        for model in models:\n",
    "            \n",
    "            ckpt_root = f'./TDC_checkpoints/{model}/{name}_{seed}/'\n",
    "            ckpts = [a for a in os.listdir(ckpt_root) if a.startswith('epoch')]\n",
    "            ckpt_path = ckpt_root + ckpts[0]\n",
    "            benchmark = group.get(name)\n",
    "            name = benchmark['name']\n",
    "            train_val, test = benchmark['train_val'], benchmark['test']\n",
    "            train, valid = group.get_train_valid_split(benchmark = name, split_type = 'default', seed = seed)\n",
    "            smiles = test['Drug'].values.tolist()\n",
    "            zetas, etas, number_of_laplacians_, which_laplacians = Laplacian_Rollout_analysis(ckpt_path, smiles, is_prepared_as_packed_chython=False, device='cuda')\n",
    "            data[f'{model}_{name}_{seed}'] = {\n",
    "                'zetas': zetas,\n",
    "                'etas': etas,\n",
    "                'number_of_laplacians_': number_of_laplacians_,\n",
    "                'which_laplacians': which_laplacians\n",
    "            }  "
   ]
  },
  {
   "cell_type": "code",
   "execution_count": null,
   "id": "485729da",
   "metadata": {},
   "outputs": [],
   "source": [
    "with open('./spectra_data_total.pkl', 'wb') as f:\n",
    "    pickle.dump(data, f)"
   ]
  },
  {
   "cell_type": "code",
   "execution_count": null,
   "id": "09460ea8",
   "metadata": {},
   "outputs": [],
   "source": [
    "import pickle \n",
    "\n",
    "with open('./spectra_data_total.pkl', 'rb') as f:\n",
    "    data = pickle.load(f)"
   ]
  },
  {
   "cell_type": "code",
   "execution_count": null,
   "id": "604ec2a1",
   "metadata": {},
   "outputs": [],
   "source": [
    "avg_zetas_ = {}\n",
    "\n",
    "models = [\n",
    "    'scratch_20L_wide_def_2e-5_16p', \n",
    "    'charges_20L_wide_def_2e-5_16p', \n",
    "    'nmr_20L_wide_def_2e-5_16p', \n",
    "    'fukui_n_20L_wide_def_2e-5_16p', \n",
    "    'fukui_e_20L_wide_def_2e-5_16p', \n",
    "    'homo-lumo_20L_wide_def_2e-5_16p', \n",
    "    'qm_all_20L_wide_def_2e-5_16p', \n",
    "    'masking_20L_wide_def_2e-5_16p'\n",
    "]\n",
    "\n",
    "for name in tqdm(names):\n",
    "    \n",
    "    avg_zetas_[name] = {}\n",
    "    \n",
    "    for model in models:\n",
    "        \n",
    "        subname = model.split('_')[0]\n",
    "        \n",
    "        if subname == 'fukui':\n",
    "            subname = model.split('_')[0] + '_' + model.split('_')[1]\n",
    "        \n",
    "        elif subname == 'qm':\n",
    "            subname = 'all'\n",
    "        \n",
    "        else:\n",
    "            pass\n",
    "        \n",
    "        avg_zetas_[name][subname] = np.mean([np.mean(data[f'{model}_{name}_{seed}']['zetas']) for seed in [1,2,3,4,5]]) "
   ]
  },
  {
   "cell_type": "code",
   "execution_count": null,
   "id": "9c5a65b5",
   "metadata": {},
   "outputs": [],
   "source": [
    "with open('./avg_zetas.pkl', 'wb') as f:\n",
    "    pickle.dump(avg_zetas_, f)"
   ]
  },
  {
   "cell_type": "code",
   "execution_count": null,
   "id": "9e1bdf1e",
   "metadata": {},
   "outputs": [],
   "source": [
    "with open('./avg_zetas.pkl', 'rb') as f:\n",
    "    avg_zetas = pickle.load(f)"
   ]
  },
  {
   "cell_type": "code",
   "execution_count": null,
   "id": "bf809228",
   "metadata": {},
   "outputs": [],
   "source": [
    "def invert(original_dict):\n",
    "    inverted_dict = {}\n",
    "    for k, inner_dict in original_dict.items():\n",
    "        for v, c in inner_dict.items():\n",
    "            if v not in inverted_dict:\n",
    "                inverted_dict[v] = {}\n",
    "            inverted_dict[v][k] = c\n",
    "    return inverted_dict\n",
    "\n",
    "avg_zetas = invert(avg_zetas)"
   ]
  },
  {
   "cell_type": "code",
   "execution_count": null,
   "id": "73ddb9da",
   "metadata": {},
   "outputs": [],
   "source": [
    "reorganised_avgzs = {}\n",
    "\n",
    "for k,v in avg_zetas.items():\n",
    "    reorganised_avgzs[k] = []\n",
    "    for val in v.values():\n",
    "        reorganised_avgzs[k]+=[val]"
   ]
  },
  {
   "cell_type": "code",
   "execution_count": null,
   "id": "d9dc6196",
   "metadata": {},
   "outputs": [],
   "source": [
    "import pandas as pd\n",
    "import seaborn as sns\n",
    "from matplotlib import pyplot as plt\n",
    "\n",
    "plt.figure(figsize=(15,5))\n",
    "data = {}\n",
    "\n",
    "models_list = ['all', 'charges', 'nmr', 'fukui_n' ,'fukui_e', 'homo-lumo', 'masking', 'scratch']\n",
    "\n",
    "for m in models_list:\n",
    "    data[m] = reorganised_avgzs[m]\n",
    "\n",
    "df = pd.DataFrame(dict([(k, pd.Series(v)) for k, v in data.items()]))\n",
    "\n",
    "df_melted = df.melt(var_name='Model', value_name=r'$\\zeta$')\n",
    "\n",
    "sns.swarmplot(x='Model', y=r'$\\zeta$', data=df_melted, hue = 'Model', legend = 'brief')\n",
    "plt.xticks(rotation = 45, fontsize = 16)\n",
    "plt.legend(fontsize = '16')\n",
    "plt.yticks(fontsize = 16)\n",
    "plt.xlabel('Models by pretraining method', fontdict={'fontsize': 20})\n",
    "plt.ylabel(r'$\\langle \\zeta \\rangle_{\\rm{test}}$', fontdict={'fontsize': 20})\n",
    "plt.tight_layout()\n",
    "plt.savefig('./swarm_zeta.pdf')"
   ]
  }
 ],
 "metadata": {
  "kernelspec": {
   "display_name": "Python 3 (ipykernel)",
   "language": "python",
   "name": "python3"
  },
  "language_info": {
   "codemirror_mode": {
    "name": "ipython",
    "version": 3
   },
   "file_extension": ".py",
   "mimetype": "text/x-python",
   "name": "python",
   "nbconvert_exporter": "python",
   "pygments_lexer": "ipython3",
   "version": "3.10.6"
  }
 },
 "nbformat": 4,
 "nbformat_minor": 5
}
